{
  "nbformat": 4,
  "nbformat_minor": 0,
  "metadata": {
    "colab": {
      "provenance": [],
      "authorship_tag": "ABX9TyM3hymuQPsvda+sJd7ZdBRk",
      "include_colab_link": true
    },
    "kernelspec": {
      "name": "python3",
      "display_name": "Python 3"
    },
    "language_info": {
      "name": "python"
    }
  },
  "cells": [
    {
      "cell_type": "markdown",
      "metadata": {
        "id": "view-in-github",
        "colab_type": "text"
      },
      "source": [
        "<a href=\"https://colab.research.google.com/github/4Leuu/IA/blob/main/BuscaGulosa.ipynb\" target=\"_parent\"><img src=\"https://colab.research.google.com/assets/colab-badge.svg\" alt=\"Open In Colab\"/></a>"
      ]
    },
    {
      "cell_type": "code",
      "execution_count": 2,
      "metadata": {
        "id": "gtqhFuWGpRQq"
      },
      "outputs": [],
      "source": [
        "import heapq\n",
        "def busca_gulosa(graph, start, goal):\n",
        "    visitado = set()\n",
        "    fila_prioridade = [(0, start)]\n",
        "    caminho = {start: None}\n",
        "\n",
        "    while fila_prioridade:\n",
        "        cost, no_atual = heapq.heappop(fila_prioridade)\n",
        "\n",
        "        if no_atual == goal:\n",
        "            path = []\n",
        "            while no_atual is not None:\n",
        "                path.append(no_atual)\n",
        "                no_atual = caminho[no_atual]\n",
        "            path.reverse()\n",
        "            return cost, path\n",
        "\n",
        "        if no_atual not in visitado:\n",
        "            visitado.add(no_atual)\n",
        "            for neighbor, neighbor_cost in graph[no_atual].items():\n",
        "                if neighbor not in visitado:\n",
        "                    heapq.heappush(fila_prioridade, (neighbor_cost, neighbor))\n",
        "                    caminho[neighbor] = no_atual\n",
        "\n",
        "    return float('inf'), None\n",
        "\n",
        "graph = {\n",
        "    'A': {'B': 10, 'C': 20, 'D': 15},\n",
        "    'B': {'A': 10, 'C': 25, 'E': 30},\n",
        "    'C': {'A': 20, 'B': 25, 'D': 35, 'E': 40},\n",
        "    'D': {'A': 15, 'C': 35, 'E': 45},\n",
        "    'E': {'B': 30, 'C': 40, 'D': 45}\n",
        "}\n",
        "\n",
        "start_node = 'D'\n",
        "goal_node = 'C'\n",
        "\n",
        "shortest_path_cost, shortest_path = busca_gulosa(graph, start_node, goal_node)\n",
        "if shortest_path is not None:\n",
        "    print(\"O custo do caminho mais curto de\", start_node, \"para\", goal_node, \"é:\", shortest_path_cost)\n",
        "    print(\"O caminho mais curto é:\", shortest_path)\n",
        "else:\n",
        "    print(\"Não há caminho de\", start_node, \"para\", goal_node)\n"
      ]
    }
  ]
}