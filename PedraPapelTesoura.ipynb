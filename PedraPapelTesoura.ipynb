{
  "nbformat": 4,
  "nbformat_minor": 0,
  "metadata": {
    "colab": {
      "provenance": [],
      "authorship_tag": "ABX9TyNGhQuuIMNuaq97t5UQqFWj",
      "include_colab_link": true
    },
    "kernelspec": {
      "name": "python3",
      "display_name": "Python 3"
    },
    "language_info": {
      "name": "python"
    }
  },
  "cells": [
    {
      "cell_type": "markdown",
      "metadata": {
        "id": "view-in-github",
        "colab_type": "text"
      },
      "source": [
        "<a href=\"https://colab.research.google.com/github/4Leuu/IA---UNIARA/blob/main/PedraPapelTesoura.ipynb\" target=\"_parent\"><img src=\"https://colab.research.google.com/assets/colab-badge.svg\" alt=\"Open In Colab\"/></a>"
      ]
    },
    {
      "cell_type": "code",
      "execution_count": null,
      "metadata": {
        "id": "r9kp5cvUk5Bm"
      },
      "outputs": [],
      "source": [
        "import random\n",
        "\n",
        "def play_game():\n",
        "  choices = [\"Pedra\", \"Papel\", \"Tesoura\"]\n",
        "  computer_choice = random.choice(choices)\n",
        "  player_choice = input(\"Escolha Pedra, Papel ou Tesoura: \").capitalize()\n",
        "  if player_choice not in choices:\n",
        "    print(\"Escolha inválida.\")\n",
        "    return\n",
        "  if player_choice == computer_choice:\n",
        "    print(\"Empate!\")\n",
        "  elif (player_choice == \"Pedra\" and computer_choice == \"Tesoura\") or \\\n",
        "       (player_choice == \"Papel\" and computer_choice == \"Pedra\") or \\\n",
        "       (player_choice == \"Tesoura\" and computer_choice == \"Papel\"):\n",
        "    print(\"Você ganhou!\")\n",
        "  else:\n",
        "    print(\"Você perdeu!\")\n",
        "\n",
        "play_again = True\n",
        "while play_again:\n",
        "  play_game()\n",
        "  user_input = input(\"Jogar novamente? (s/n): \").lower()\n",
        "  if user_input != \"s\":\n",
        "    play_again = False\n",
        "    print(\"Obrigado por jogar!\")\n"
      ]
    }
  ]
}